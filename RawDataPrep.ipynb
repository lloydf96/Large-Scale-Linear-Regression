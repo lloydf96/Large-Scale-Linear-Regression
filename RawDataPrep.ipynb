{
 "cells": [
  {
   "cell_type": "markdown",
   "metadata": {},
   "source": [
    "### Filtering Raw Data and saving weather data in appropriate format"
   ]
  },
  {
   "cell_type": "code",
   "execution_count": null,
   "metadata": {},
   "outputs": [],
   "source": [
    "import pandas as pd\n",
    "import numpy as np\n",
    "import matplotlib as plt\n",
    "import dask.dataframe as ds\n",
    "%matplotlib inline"
   ]
  },
  {
   "cell_type": "markdown",
   "metadata": {},
   "source": [
    "#### only considering data from 2012 to 2017"
   ]
  },
  {
   "cell_type": "code",
   "execution_count": 3,
   "metadata": {},
   "outputs": [],
   "source": [
    "# only three decimal places to show\n",
    "pd.set_option('display.float_format', lambda x: '%.2f' % x)\n",
    "\n",
    "#using dask to quickly filter the dataset\n",
    "\n",
    "dask_df = ds.read_csv(\"train.csv\")\n",
    "dask_df.npartitions\n",
    "\n",
    "#filter large csv using dask\n",
    "df_filter_task = dask_df[(dask_df[\"pickup_datetime\"] >= '2012-10-01') & (dask_df[\"pickup_datetime\"] <= '2017-10-28')]\n",
    "\n",
    "df_filtered_task = df_filter_task[(df_filter_task['pickup_longitude'] != 0) & (df_filter_task['pickup_latitude'] != 0) \n",
    "           & (df_filter_task['dropoff_longitude'] != 0) & (df_filter_task['dropoff_latitude'] != 0) ].copy()\n",
    "df_filtered = df_filter_task.compute()\n",
    "\n",
    "df_filter_task = ds.read_csv(\"train_2012_2017_2.csv\")\n",
    "df_filter_task.npartitions\n",
    "\n",
    "df_filtered_task = df_filter_task[(df_filter_task['pickup_longitude'] != 0) & (df_filter_task['pickup_latitude'] != 0) \n",
    "           & (df_filter_task['dropoff_longitude'] != 0) & (df_filter_task['dropoff_latitude'] != 0) ].copy()\n",
    "df_filtered = df_filtered_task.compute()\n",
    "\n",
    "df_filtered.to_pickle('train_2012_2017.pkl')"
   ]
  },
  {
   "cell_type": "markdown",
   "metadata": {},
   "source": [
    "#### Using weather data from NewYork between 2012 to 2017"
   ]
  },
  {
   "cell_type": "code",
   "execution_count": 3,
   "metadata": {},
   "outputs": [],
   "source": [
    "df_temp = pd.read_csv(\"temperature.csv\",usecols = [\"datetime\",\"New York\"]).set_index(\"datetime\").rename(columns = {\"New York\" : \"temp\"} )\n",
    "df_weather_desc = pd.read_csv(\"weather_description.csv\",usecols = [\"datetime\",\"New York\"]).set_index(\"datetime\").rename(columns = {\"New York\" : \"weather_desc\"} )\n",
    "df_wind_direc = pd.read_csv(\"wind_direction.csv\",usecols = [\"datetime\",\"New York\"]).set_index(\"datetime\").rename(columns = {\"New York\" : \"wind_drec\"} )\n",
    "df_wind_speed = pd.read_csv(\"wind_direction.csv\",usecols = [\"datetime\",\"New York\"]).set_index(\"datetime\").rename(columns = {\"New York\" : \"wind_speed\"} )\n",
    "df_humid = pd.read_csv(\"humidity.csv\",usecols = [\"datetime\",\"New York\"]).set_index(\"datetime\").rename(columns = {\"New York\" : \"humid\"} )\n",
    "\n",
    "weather_data[\"temp\"] = round(weather_data[\"temp\"],2)\n",
    "weather_data[\"wind_drec\"] = round(weather_data[\"wind_drec\"],2)\n",
    "weather_data[\"wind_speed\"] = round(weather_data[\"wind_speed\"],2)\n",
    "weather_data[\"humid\"] = round(weather_data[\"humid\"],2)\n",
    "\n",
    "weather_data[\"weather_cat\"] = pd.Categorical((pd.factorize(weather_data.weather_desc)[0] + 1))\n",
    "\n",
    "weather_data.to_pickle(\"weather_data.pkl\")"
   ]
  }
 ],
 "metadata": {
  "kernelspec": {
   "display_name": "Python 3",
   "language": "python",
   "name": "python3"
  },
  "language_info": {
   "codemirror_mode": {
    "name": "ipython",
    "version": 3
   },
   "file_extension": ".py",
   "mimetype": "text/x-python",
   "name": "python",
   "nbconvert_exporter": "python",
   "pygments_lexer": "ipython3",
   "version": "3.9.1"
  }
 },
 "nbformat": 4,
 "nbformat_minor": 4
}
